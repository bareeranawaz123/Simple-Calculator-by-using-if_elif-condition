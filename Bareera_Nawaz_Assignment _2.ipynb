{
  "nbformat": 4,
  "nbformat_minor": 0,
  "metadata": {
    "colab": {
      "provenance": []
    },
    "kernelspec": {
      "name": "python3",
      "display_name": "Python 3"
    },
    "language_info": {
      "name": "python"
    }
  },
  "cells": [
    {
      "cell_type": "code",
      "source": [
        " num1 = float(input(\"Enter First Number:\"))\n",
        "\n",
        "num2 = float(input(\"Enter Second Number:\"))\n",
        "\n",
        "operation = (input(\"Enter the Operation:\"))\n",
        "\n",
        "if operation == \"+\":\n",
        "    print(num1 + num2)\n",
        "elif operation == \"-\":\n",
        "    print(num1 - num2)\n",
        "elif operation == \"*\":\n",
        "    print(num1 * num2)\n",
        "elif operation == \"/\":\n",
        "    if num2 != 0:\n",
        "        print(num1 / num2)\n",
        "    else:\n",
        "        print(\"Error! Division by Zero\")\n",
        "else:\n",
        "    print(\"Invalid Operation\")\n",
        "    print(\"Result is:\", Result)"
      ],
      "metadata": {
        "id": "-XAnAJqzNxP0",
        "colab": {
          "base_uri": "https://localhost:8080/"
        },
        "outputId": "c31450a9-caad-4834-ff0c-b8a97c2b3e6d"
      },
      "execution_count": 7,
      "outputs": [
        {
          "output_type": "stream",
          "name": "stdout",
          "text": [
            "Enter First Number:6\n",
            "Enter Second Number:4\n",
            "Enter the Operation:-\n",
            "2.0\n"
          ]
        }
      ]
    },
    {
      "cell_type": "code",
      "source": [],
      "metadata": {
        "id": "ltdTpDmh66Lq"
      },
      "execution_count": null,
      "outputs": []
    },
    {
      "cell_type": "code",
      "source": [],
      "metadata": {
        "id": "kROm2wqOQbRo"
      },
      "execution_count": null,
      "outputs": []
    }
  ]
}